{
  "nbformat": 4,
  "nbformat_minor": 0,
  "metadata": {
    "colab": {
      "provenance": []
    },
    "kernelspec": {
      "name": "python3",
      "display_name": "Python 3"
    },
    "language_info": {
      "name": "python"
    }
  },
  "cells": [
    {
      "cell_type": "markdown",
      "source": [
        "**Probabilistic Language Modeling(Smoothing)**\n",
        "\n",
        "\n",
        "1.   **Algorithm** (N-gram, Dirichlet Prior)\n",
        "2.   **Library** (NLTK)\n",
        "3.   **Result** (Word prediction using n-gram model with smoothing)\n",
        "\n"
      ],
      "metadata": {
        "id": "Mdaz6EAqJEEg"
      }
    },
    {
      "cell_type": "code",
      "execution_count": 1,
      "metadata": {
        "id": "3R8lHuKhw1VC"
      },
      "outputs": [],
      "source": [
        "import io\n",
        "import re\n",
        "from itertools import product\n",
        "import math\n",
        "import nltk\n",
        "from pathlib import Path"
      ]
    },
    {
      "cell_type": "markdown",
      "source": [
        "Downlaod data"
      ],
      "metadata": {
        "id": "kurCzbOe4ker"
      }
    },
    {
      "cell_type": "code",
      "source": [
        "#https://drive.google.com/file/d/1qCVYpb67RuzUbyrJ3w-ohtCf-tzZKTal/view?usp=sharing\n",
        "#https://drive.google.com/file/d/1dW5SkCYIFbXmNe3xKv4EhrLPDPlXyIDy/view?usp=sharing\n",
        "\n",
        "\n",
        "!gdown --id 1qCVYpb67RuzUbyrJ3w-ohtCf-tzZKTal\n",
        "!gdown --id 1dW5SkCYIFbXmNe3xKv4EhrLPDPlXyIDy"
      ],
      "metadata": {
        "colab": {
          "base_uri": "https://localhost:8080/"
        },
        "id": "pcj56EDBSNz4",
        "outputId": "72ceddcf-cead-4661-ab60-9397a88527b1"
      },
      "execution_count": 2,
      "outputs": [
        {
          "output_type": "stream",
          "name": "stdout",
          "text": [
            "/usr/local/lib/python3.10/dist-packages/gdown/__main__.py:132: FutureWarning: Option `--id` was deprecated in version 4.3.1 and will be removed in 5.0. You don't need to pass it anymore to use a file ID.\n",
            "  warnings.warn(\n",
            "Downloading...\n",
            "From: https://drive.google.com/uc?id=1qCVYpb67RuzUbyrJ3w-ohtCf-tzZKTal\n",
            "To: /content/train.txt\n",
            "100% 9.87M/9.87M [00:00<00:00, 50.6MB/s]\n",
            "/usr/local/lib/python3.10/dist-packages/gdown/__main__.py:132: FutureWarning: Option `--id` was deprecated in version 4.3.1 and will be removed in 5.0. You don't need to pass it anymore to use a file ID.\n",
            "  warnings.warn(\n",
            "Downloading...\n",
            "From: https://drive.google.com/uc?id=1dW5SkCYIFbXmNe3xKv4EhrLPDPlXyIDy\n",
            "To: /content/test.txt\n",
            "100% 5.80k/5.80k [00:00<00:00, 13.3MB/s]\n"
          ]
        }
      ]
    },
    {
      "cell_type": "markdown",
      "source": [
        "Preprocess\n",
        "\n",
        "Ignoring\n",
        "*   extra consecutive spaces\n",
        "*   spaces at the beginning and end of lines"
      ],
      "metadata": {
        "id": "HocoBwKjSXbd"
      }
    },
    {
      "cell_type": "code",
      "source": [
        "def file_clear(in_f, out_f):\n",
        "    inputFile = io.open(in_f, mode=\"r\", encoding=\"utf-8\")\n",
        "    outputFile = io.open(out_f, mode=\"w\", encoding=\"utf-8\")\n",
        "\n",
        "    updated=[]\n",
        "    Lines = inputFile.readlines()\n",
        "    for i, line in enumerate(Lines):\n",
        "        newline= re.sub(' +', ' ', line.strip())\n",
        "        if len(line.split()) >2:\n",
        "            updated.append(newline+\"\\n\")\n",
        "        else:\n",
        "            print(line,i)\n",
        "    outputFile.writelines(updated)\n",
        "    print( len(Lines), len(updated))\n",
        "    inputFile.__exit__()\n",
        "    outputFile.__exit__()\n",
        "\n",
        "\n",
        "file_clear('train.txt', 'cleaned_train.txt')\n",
        "file_clear('test.txt', 'cleaned_test.txt')"
      ],
      "metadata": {
        "colab": {
          "base_uri": "https://localhost:8080/"
        },
        "id": "uqRr2p4CSRvE",
        "outputId": "2c504952-365d-45a3-c869-52eb89e8cb1c"
      },
      "execution_count": 3,
      "outputs": [
        {
          "output_type": "stream",
          "name": "stdout",
          "text": [
            "بسیارخوری وکامرانی\n",
            " 2438\n",
            "هنگام مکافات\n",
            " 31304\n",
            "حضرت ستارخان\n",
            " 57052\n",
            "سلام چطوری\n",
            " 67800\n",
            "گلبنان ممتحن\n",
            " 74076\n",
            "همدست وهمداستان\n",
            " 78314\n",
            "ای نازنین\n",
            " 96936\n",
            "قصر چلستون\n",
            " 101252\n",
            "بسیار سخن\n",
            " 107340\n",
            "اندر آذربایجان\n",
            " 108670\n",
            "نپذیرند یکی\n",
            " 118562\n",
            "بیشتر کن\n",
            " 140401\n",
            "بیچاره         رعیت\n",
            " 151833\n",
            "اندرگلستان ما\n",
            " 152975\n",
            "ناگاه صبا\n",
            " 159903\n",
            "پرشرر کن\n",
            " 167759\n",
            "همدرد ندارد\n",
            " 175501\n",
            "برملت خوبشتن\n",
            " 184457\n",
            "188894 188876\n",
            "108 108\n"
          ]
        }
      ]
    },
    {
      "cell_type": "markdown",
      "source": [
        "**Model**(N-gram, Dirichlet Prior)"
      ],
      "metadata": {
        "id": "9G4SefSNV-1v"
      }
    },
    {
      "cell_type": "code",
      "source": [
        "SOS = \"<s> \"\n",
        "EOS = \"</s>\"\n",
        "UNK = \"<UNK>\"\n",
        "\n",
        "def add_sentence_tokens(sentences, n):\n",
        "    \"\"\"Wrap each sentence in SOS and EOS tokens.\n",
        "    For n >= 2, n-1 SOS tokens are added, otherwise only one is added.\n",
        "    Args:\n",
        "        sentences (list of str): the sentences to wrap.\n",
        "        n (int): order of the n-gram model which will use these sentences.\n",
        "    Returns:\n",
        "        List of sentences with SOS and EOS tokens wrapped around them.\n",
        "    \"\"\"\n",
        "    sos = SOS * (n-1) if n > 1 else SOS\n",
        "    return ['{}{} {}'.format(sos, s, EOS) for s in sentences]\n",
        "\n",
        "def replace_singletons(tokens):\n",
        "    \"\"\"Replace tokens which appear only once in the corpus with <UNK>.\n",
        "\n",
        "    Args:\n",
        "        tokens (list of str): the tokens comprising the corpus.\n",
        "    Returns:\n",
        "        The same list of tokens with each singleton replaced by <UNK>.\n",
        "\n",
        "    \"\"\"\n",
        "    vocab = nltk.FreqDist(tokens)\n",
        "    return [token if vocab[token] > 1 else UNK for token in tokens]\n",
        "\n",
        "def preprocess(sentences, n):\n",
        "    \"\"\"Add SOS/EOS/UNK tokens to given sentences and tokenize.\n",
        "    Args:\n",
        "        sentences (list of str): the sentences to preprocess.\n",
        "        n (int): order of the n-gram model which will use these sentences.\n",
        "    Returns:\n",
        "        The preprocessed sentences, tokenized by words.\n",
        "    \"\"\"\n",
        "    sentences = add_sentence_tokens(sentences, n)\n",
        "    tokens = ' '.join(sentences).split(' ')\n",
        "    tokens = replace_singletons(tokens)\n",
        "    return tokens\n",
        "\n",
        "\n",
        "\n",
        "def load_data(train_path, test_path=\"\"):\n",
        "    \"\"\"Load train and test corpora from a directory.\n",
        "    Directory must contain two files: train.txt and test.txt.\n",
        "    Newlines will be stripped out.\n",
        "    Args:\n",
        "        data_dir (Path) -- pathlib.Path of the directory to use.\n",
        "    Returns:\n",
        "        The train and test sets, as lists of sentences.\n",
        "    \"\"\"\n",
        "\n",
        "    with open(train_path, 'r') as f:\n",
        "        train = [l.strip() for l in f.readlines()]\n",
        "\n",
        "    if test_path != \"\":\n",
        "        with open(test_path, 'r') as f:\n",
        "            test = [l.strip() for l in f.readlines()]\n",
        "    else:\n",
        "        return train\n",
        "    return train, test"
      ],
      "metadata": {
        "id": "n5z_GZKsSiYs"
      },
      "execution_count": 4,
      "outputs": []
    },
    {
      "cell_type": "code",
      "source": [
        "class LanguageModel(object):\n",
        "    \"\"\"An n-gram language model trained on a given corpus.\n",
        "\n",
        "    For a given n and given training corpus, constructs an n-gram language\n",
        "    model for the corpus by:\n",
        "    1. preprocessing the corpus (adding SOS/EOS/UNK tokens)\n",
        "    2. calculating (smoothed) probabilities for each n-gram\n",
        "    Also contains methods for calculating the perplexity of the model\n",
        "    against another corpus, and for generating sentences.\n",
        "    Args:\n",
        "        train_data (list of str): list of sentences comprising the training corpus.\n",
        "        n (int): the order of language model to build (i.e. 1 for unigram, 2 for bigram, etc.).\n",
        "        laplace (int): lambda multiplier to use for laplace smoothing (default 1 for add-1 smoothing).\n",
        "    \"\"\"\n",
        "\n",
        "    def __init__(self, train_data, n, laplace=1):\n",
        "        self.n = n\n",
        "        self.laplace = laplace\n",
        "        self.tokens = preprocess(train_data, n)\n",
        "        self.vocab  = nltk.FreqDist(self.tokens)\n",
        "        self.model  = self._create_model()\n",
        "        self.masks  = list(reversed(list(product((0,1), repeat=n))))\n",
        "\n",
        "    def _smooth(self):\n",
        "        \"\"\"Apply Laplace smoothing to n-gram frequency distribution.\n",
        "\n",
        "        Here, n_grams refers to the n-grams of the tokens in the training corpus,\n",
        "        while m_grams refers to the first (n-1) tokens of each n-gram.\n",
        "        Returns:\n",
        "            dict: Mapping of each n-gram (tuple of str) to its Laplace-smoothed\n",
        "            probability (float).\n",
        "        \"\"\"\n",
        "        vocab_size = len(self.vocab)\n",
        "\n",
        "        n_grams = nltk.ngrams(self.tokens, self.n)\n",
        "        n_vocab = nltk.FreqDist(n_grams)\n",
        "\n",
        "        m_grams = nltk.ngrams(self.tokens, self.n-1)\n",
        "        m_vocab = nltk.FreqDist(m_grams)\n",
        "\n",
        "        def smoothed_count(n_gram, n_count):\n",
        "            m_gram = n_gram[:-1]\n",
        "            m_count = m_vocab[m_gram]\n",
        "            return (n_count + self.laplace) / (m_count + self.laplace * vocab_size)\n",
        "\n",
        "        return { n_gram: smoothed_count(n_gram, count) for n_gram, count in n_vocab.items() }\n",
        "\n",
        "    def _create_model(self):\n",
        "        \"\"\"Create a probability distribution for the vocabulary of the training corpus.\n",
        "\n",
        "        If building a unigram model, the probabilities are simple relative frequencies\n",
        "        of each token with the entire corpus.\n",
        "        Otherwise, the probabilities are Laplace-smoothed relative frequencies.\n",
        "        Returns:\n",
        "            A dict mapping each n-gram (tuple of str) to its probability (float).\n",
        "        \"\"\"\n",
        "        if self.n == 1:\n",
        "            num_tokens = len(self.tokens)\n",
        "            return { (unigram,): count / num_tokens for unigram, count in self.vocab.items() }\n",
        "        else:\n",
        "            return self._smooth()\n",
        "\n",
        "    def _convert_oov(self, ngram):\n",
        "        \"\"\"Convert, if necessary, a given n-gram to one which is known by the model.\n",
        "        Starting with the unmodified ngram, check each possible permutation of the n-gram\n",
        "        with each index of the n-gram containing either the original token or <UNK>. Stop\n",
        "        when the model contains an entry for that permutation.\n",
        "        This is achieved by creating a 'bitmask' for the n-gram tuple, and swapping out\n",
        "        each flagged token for <UNK>. Thus, in the worst case, this function checks 2^n\n",
        "        possible n-grams before returning.\n",
        "        Returns:\n",
        "            The n-gram with <UNK> tokens in certain positions such that the model\n",
        "            contains an entry for it.\n",
        "        \"\"\"\n",
        "        mask = lambda ngram, bitmask: tuple((token if flag == 1 else \"<UNK>\" for token,flag in zip(ngram, bitmask)))\n",
        "\n",
        "        ngram = (ngram,) if type(ngram) is str else ngram\n",
        "        for possible_known in [mask(ngram, bitmask) for bitmask in self.masks]:\n",
        "            if possible_known in self.model:\n",
        "                return possible_known\n",
        "\n",
        "    def perplexity(self, test_data):\n",
        "        \"\"\"Calculate the perplexity of the model against a given test corpus.\n",
        "\n",
        "        Args:\n",
        "            test_data (list of str): sentences comprising the training corpus.\n",
        "        Returns:\n",
        "            The perplexity of the model as a float.\n",
        "\n",
        "        \"\"\"\n",
        "        test_tokens = preprocess(test_data, self.n)\n",
        "        test_ngrams = nltk.ngrams(test_tokens, self.n)\n",
        "        N = len(test_tokens)\n",
        "\n",
        "        known_ngrams  = (self._convert_oov(ngram) for ngram in test_ngrams)\n",
        "        probabilities = [self.model[ngram] for ngram in known_ngrams]\n",
        "\n",
        "        return math.exp((-1/N) * sum(map(math.log, probabilities)))\n",
        "\n",
        "    def _best_candidate(self, prev, i, without=[]):\n",
        "        \"\"\"Choose the most likely next token given the previous (n-1) tokens.\n",
        "        If selecting the first word of the sentence (after the SOS tokens),\n",
        "        the i'th best candidate will be selected, to create variety.\n",
        "        If no candidates are found, the EOS token is returned with probability 1.\n",
        "        Args:\n",
        "            prev (tuple of str): the previous n-1 tokens of the sentence.\n",
        "            i (int): which candidate to select if not the most probable one.\n",
        "            without (list of str): tokens to exclude from the candidates list.\n",
        "        Returns:\n",
        "            A tuple with the next most probable token and its corresponding probability.\n",
        "        \"\"\"\n",
        "        blacklist  = [\"<UNK>\"] + without\n",
        "        candidates = ((ngram[-1],prob) for ngram,prob in self.model.items() if ngram[:-1]==prev)\n",
        "        candidates = filter(lambda candidate: candidate[0] not in blacklist, candidates)\n",
        "        candidates = sorted(candidates, key=lambda candidate: candidate[1], reverse=True)\n",
        "        if len(candidates) == 0:\n",
        "            return (\"</s>\", 1)\n",
        "        else:\n",
        "            return candidates[0 if prev != () and prev[-1] != \"<s>\" else i]\n",
        "\n",
        "    def generate_sentences(self, num, min_len=12, max_len=24):\n",
        "        \"\"\"Generate num random sentences using the language model.\n",
        "        Sentences always begin with the SOS token and end with the EOS token.\n",
        "        While unigram model sentences will only exclude the UNK token, n>1 models\n",
        "        will also exclude all other words already in the sentence.\n",
        "        Args:\n",
        "            num (int): the number of sentences to generate.\n",
        "            min_len (int): minimum allowed sentence length.\n",
        "            max_len (int): maximum allowed sentence length.\n",
        "        Yields:\n",
        "            A tuple with the generated sentence and the combined probability\n",
        "            (in log-space) of all of its n-grams.\n",
        "        \"\"\"\n",
        "        for i in range(num):\n",
        "            sent, prob = [\"<s>\"] * max(1, self.n-1), 1\n",
        "            while sent[-1] != \"</s>\":\n",
        "                prev = () if self.n == 1 else tuple(sent[-(self.n-1):])\n",
        "                blacklist = sent + ([\"</s>\"] if len(sent) < min_len else [])\n",
        "                next_token, next_prob = self._best_candidate(prev, i, without=blacklist)\n",
        "                sent.append(next_token)\n",
        "                prob *= next_prob\n",
        "\n",
        "                if len(sent) >= max_len:\n",
        "                    sent.append(\"</s>\")\n",
        "\n",
        "            yield ' '.join(sent), -1/math.log(prob)\n",
        "\n",
        "    def complete_sentence(self, phrase, missing_count): #min_len=12, max_len=24):\n",
        "        sent, prob = [\"<s>\"] * max(1, self.n-1), 1\n",
        "        sent = sent + [ x.strip() for x in phrase.split() if len(x)>1]\n",
        "        for i in range(missing_count):\n",
        "            prev = () if self.n == 1 else tuple(sent[-(self.n-1):])\n",
        "            blacklist = sent + [\"</s>\"] #([\"</s>\"] if len(sent) < min_len else [])\n",
        "            next_token, next_prob = self._best_candidate(prev, i, without=blacklist)\n",
        "            sent.append(next_token)\n",
        "            prob *= next_prob\n",
        "\n",
        "\n",
        "        sent = sent + [\"</s>\"] * max(1, self.n-1)\n",
        "        return ' '.join(sent), -1/math.log(prob)"
      ],
      "metadata": {
        "id": "DDHz3KhKWqSk"
      },
      "execution_count": 5,
      "outputs": []
    },
    {
      "cell_type": "code",
      "source": [
        "class Args:\n",
        "    def __init__(self, train_f=\"cleaned_train.txt\", test_f=\"cleaned_test.txt\",  n=2, laplace=.01, num=3):\n",
        "        self.train_f = train_f\n",
        "        self.test_f = test_f\n",
        "\n",
        "        self.n=n\n",
        "        self.laplace=laplace\n",
        "        self.num=num\n",
        "args = Args()\n",
        "\n",
        "\n",
        "\n",
        "train, test = load_data(Path(args.train_f),Path(args.test_f))\n",
        "\n",
        "print(\"Loading {}-gram model...\".format(args.n))\n",
        "lm = LanguageModel(train, args.n, laplace=args.laplace)\n",
        "print(\"Vocabulary size: {}\".format(len(lm.vocab)))\n",
        "\n",
        "print(\"Generating sentences...\")\n",
        "for sentence, prob in lm.generate_sentences(args.num):\n",
        "    print(\"{} ({:.5f})\".format(sentence, prob))"
      ],
      "metadata": {
        "colab": {
          "base_uri": "https://localhost:8080/"
        },
        "id": "Db0iWI1XW8jY",
        "outputId": "233ce134-3521-4e3d-a8b6-3d124abcf70a"
      },
      "execution_count": 6,
      "outputs": [
        {
          "output_type": "stream",
          "name": "stdout",
          "text": [
            "Loading 2-gram model...\n",
            "Vocabulary size: 27927\n",
            "Generating sentences...\n",
            "<s> که در آن را به دست و از تو بر سر </s> (0.02418)\n",
            "<s> به دست و از آن را ز تو در دل من </s> (0.02418)\n",
            "<s> از آن را به دست و در دل من ز تو </s> (0.02405)\n"
          ]
        }
      ]
    },
    {
      "cell_type": "markdown",
      "source": [
        "**Q 1:**\n",
        "\n",
        "> Complete the following expressions using the **bigram model** with **Dirichlet Prior** for **smoothing**\n",
        "\n",
        "\n",
        "\n",
        "1.   چون مشک سیه بود مرا هر دو\n",
        "2.   گر خورد سوگند هم آن\n",
        "3.   زانک نفس آشفته تر گردد از\n",
        "4.   ازین زشت تر در جهان رنگ\n",
        "5.   دوست در خانه و ما گرد\n",
        "6.   شب است و شمع و شراب و"
      ],
      "metadata": {
        "id": "NeE11CdyXVPz"
      }
    },
    {
      "cell_type": "code",
      "source": [
        "sents_to_comp=[ (\"چون مشک سیه بود مرا هر دو\", 2),\n",
        "                (\"گر خورد سوگند هم آن\", 1),\n",
        "                (\"زانک نفس آشفته تر گردد از\",1),\n",
        "                (\"ازین زشت تر در جهان رنگ\",1),\n",
        "                (\"دوست در خانه و ما گرد\",2),\n",
        "                (\"شب است و شمع و شراب و\",1)\n",
        "]\n",
        "\n",
        "for phrase, missing_count in sents_to_comp:\n",
        "    completed = lm.complete_sentence(phrase, missing_count)\n",
        "    print(completed)"
      ],
      "metadata": {
        "colab": {
          "base_uri": "https://localhost:8080/"
        },
        "id": "VEJCZYRKZHQz",
        "outputId": "d4c824a5-7155-47cc-b2c1-fc3e0c6542ba"
      },
      "execution_count": 7,
      "outputs": [
        {
          "output_type": "stream",
          "name": "stdout",
          "text": [
            "('<s> چون مشک سیه بود مرا هر دو چشم من </s>', 0.17603589641442205)\n",
            "('<s> گر خورد سوگند هم آن را </s>', 0.26795928100828315)\n",
            "('<s> زانک نفس آشفته تر گردد از آن </s>', 0.3208489208062978)\n",
            "('<s> ازین زشت تر در جهان رنگ و </s>', 0.45793907493459973)\n",
            "('<s> دوست در خانه ما گرد و از </s>', 0.12235655018702388)\n",
            "('<s> شب است شمع شراب و </s>', 0.36522037121905526)\n"
          ]
        }
      ]
    },
    {
      "cell_type": "markdown",
      "source": [
        "**Q 2:**\n",
        "\n",
        "> Calculate **Perpelexity**\n",
        "\n"
      ],
      "metadata": {
        "id": "6XshGK57ZZuE"
      }
    },
    {
      "cell_type": "code",
      "source": [
        "lm.perplexity(test)"
      ],
      "metadata": {
        "colab": {
          "base_uri": "https://localhost:8080/"
        },
        "id": "Vi4v8oSmZXvK",
        "outputId": "9779a2aa-5bd2-4ba1-99aa-f35e86f8b608"
      },
      "execution_count": 8,
      "outputs": [
        {
          "output_type": "execute_result",
          "data": {
            "text/plain": [
              "40.69355828796971"
            ]
          },
          "metadata": {},
          "execution_count": 8
        }
      ]
    }
  ]
}